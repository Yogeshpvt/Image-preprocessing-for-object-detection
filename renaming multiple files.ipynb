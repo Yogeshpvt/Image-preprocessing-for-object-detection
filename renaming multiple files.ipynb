{
 "cells": [
  {
   "cell_type": "code",
   "execution_count": 70,
   "id": "035c35ba",
   "metadata": {},
   "outputs": [],
   "source": [
    "import os\n",
    "path = 'C:/Users/YOGESH V/Desktop/BlockageAI/Partial Blockage/'\n",
    "\n",
    "for file in os.listdir(path): \n",
    "    #print(file)\n",
    "    source_file = path + file\n",
    "    split = file.split('_')\n",
    "    replace = split[0].replace('Pipe surface damage', 'Partial_Blockage')\n",
    "    new = replace +'_'+ split[1]+'_'+split[2]\n",
    "    new_file = path + new\n",
    "    os.rename(source_file,new_file)"
   ]
  },
  {
   "cell_type": "code",
   "execution_count": 31,
   "id": "34642dde",
   "metadata": {},
   "outputs": [],
   "source": [
    "    "
   ]
  },
  {
   "cell_type": "code",
   "execution_count": null,
   "id": "9b40faa2",
   "metadata": {},
   "outputs": [],
   "source": []
  }
 ],
 "metadata": {
  "kernelspec": {
   "display_name": "Python 3 (ipykernel)",
   "language": "python",
   "name": "python3"
  },
  "language_info": {
   "codemirror_mode": {
    "name": "ipython",
    "version": 3
   },
   "file_extension": ".py",
   "mimetype": "text/x-python",
   "name": "python",
   "nbconvert_exporter": "python",
   "pygments_lexer": "ipython3",
   "version": "3.11.5"
  }
 },
 "nbformat": 4,
 "nbformat_minor": 5
}
