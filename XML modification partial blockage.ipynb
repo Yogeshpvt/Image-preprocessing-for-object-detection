{
 "cells": [
  {
   "cell_type": "code",
   "execution_count": 3,
   "id": "8084fd3e",
   "metadata": {},
   "outputs": [],
   "source": [
    "import os\n",
    "from os import listdir\n",
    "from os.path import isfile, join\n",
    "#import numpy as np\n",
    "\n",
    "import xml.etree.ElementTree as ET\n",
    "\n",
    "mypath = 'C:/Users/YOGESH V/Desktop/BlockageAI/road_sign_data/crack_SD/labels'\n",
    "onlyfiles = [ f for f in listdir(mypath) if isfile(join(mypath,f)) ]\n",
    "#os.listdir(mypath)\n",
    "\n",
    "for filename in os.listdir(mypath):\n",
    "    fullname = os.path.join(mypath, filename)\n",
    "    #print(fullname)\n",
    "    tree = ET.parse(fullname)\n",
    "    root = tree.getroot()\n",
    "    for elem in tree.iter():\n",
    "                 #elem.text = elem.text.replace(textfile , new_filename)\n",
    "        #elem.text = elem.text.replace('Pipe surface damage', 'Partial Blockage')\n",
    "        #elem.text = elem.text.replace('Complete Blockage (B,4)', 'Blockage(B,4)')\n",
    "        elem.text = elem.text.replace('Blockage (B,4)', 'Partial Blockage (B,4)')\n",
    "        #elem.text = elem.text.replace('Joint_Displacement (JD,4)', 'Joint_Displacement(JD,4)')\n",
    "        #elem.text = elem.text.replace('Stone (St,3)', 'Stone(St,3)')\n",
    "        #elem.text = elem.text.replace('Sludge_Accumulation (Sl,3)', 'Sludge_Accumulation(Sl,3)')\n",
    "                 #elem.text = elem.text.replace('ferrules', 'ferrule')\n",
    "    tree.write(fullname)"
   ]
  },
  {
   "cell_type": "code",
   "execution_count": null,
   "id": "8aad3342",
   "metadata": {},
   "outputs": [],
   "source": []
  }
 ],
 "metadata": {
  "kernelspec": {
   "display_name": "Python 3 (ipykernel)",
   "language": "python",
   "name": "python3"
  },
  "language_info": {
   "codemirror_mode": {
    "name": "ipython",
    "version": 3
   },
   "file_extension": ".py",
   "mimetype": "text/x-python",
   "name": "python",
   "nbconvert_exporter": "python",
   "pygments_lexer": "ipython3",
   "version": "3.10.10"
  }
 },
 "nbformat": 4,
 "nbformat_minor": 5
}
