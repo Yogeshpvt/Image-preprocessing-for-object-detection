{
 "cells": [
  {
   "cell_type": "code",
   "execution_count": 16,
   "id": "5740c026",
   "metadata": {
    "scrolled": true
   },
   "outputs": [],
   "source": [
    "from numpy import expand_dims\n",
    "from keras.preprocessing import image\n",
    "#from keras.preprocessing.image import load_img\n",
    "from tensorflow.keras.utils import load_img\n",
    "#from keras.preprocessing.image import img_to_array\n",
    "from tensorflow.keras.utils import img_to_array\n",
    "from keras.preprocessing.image import ImageDataGenerator\n",
    "from matplotlib import pyplot\n",
    "import cv2\n",
    "import os.path\n",
    "from os.path import isfile, join\n"
   ]
  },
  {
   "cell_type": "code",
   "execution_count": 19,
   "id": "4481f960",
   "metadata": {},
   "outputs": [],
   "source": [
    "# generate samples and plot\n",
    "mypath = 'C:/Users/YOGESH V/Desktop/BlockageAI/Partial Blockage/'  \n",
    "onlyfiles = [f for f in os.listdir(mypath) if isfile( join (mypath,f))]\n",
    "#n=np.size(onlyfiles)\n",
    "#numpyarray = np.zeros((n,4096))"
   ]
  },
  {
   "cell_type": "code",
   "execution_count": 20,
   "id": "dbaf6664",
   "metadata": {},
   "outputs": [],
   "source": [
    "#path = 'F:/image_argumentation/OneDrive-2022-09-21 (1)/Ferrules'\n",
    "for n in range (0,len(onlyfiles)):\n",
    "    y=(mypath + onlyfiles[n])\n",
    "    \n",
    "    img = load_img(y, target_size=(224, 224))\n",
    "    # load the image\n",
    "    # convert to numpy array\n",
    "    data = img_to_array(img)\n",
    "    # expand dimension to one sample\n",
    "    samples = expand_dims(data, 0)\n",
    "    # create image data augmentation generator\n",
    "    datagen = ImageDataGenerator(rotation_range=45)\n",
    "   \n",
    "    # prepare iterator\n",
    "    it = datagen.flow(samples, batch_size=1)\n",
    "    for i in range(9):\n",
    "        #pyplot.subplot(330 + 1 + i)\n",
    "        batch = it.next()\n",
    "        image = batch[0].astype('uint8')\n",
    "        cv2.imwrite(f'Pipe surface damage_{n}_{i+1:04}.jpg',cv2.cvtColor(image, cv2.COLOR_BGR2RGB) )"
   ]
  },
  {
   "cell_type": "code",
   "execution_count": null,
   "id": "03b94556",
   "metadata": {},
   "outputs": [],
   "source": []
  }
 ],
 "metadata": {
  "kernelspec": {
   "display_name": "Python 3 (ipykernel)",
   "language": "python",
   "name": "python3"
  },
  "language_info": {
   "codemirror_mode": {
    "name": "ipython",
    "version": 3
   },
   "file_extension": ".py",
   "mimetype": "text/x-python",
   "name": "python",
   "nbconvert_exporter": "python",
   "pygments_lexer": "ipython3",
   "version": "3.10.10"
  }
 },
 "nbformat": 4,
 "nbformat_minor": 5
}
